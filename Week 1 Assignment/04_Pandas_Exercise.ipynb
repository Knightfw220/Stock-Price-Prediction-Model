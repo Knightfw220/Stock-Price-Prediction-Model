{
  "cells": [
    {
      "cell_type": "markdown",
      "metadata": {
        "id": "gyY0MaUAGMmA"
      },
      "source": [
        "# SF Salaries Exercise\n",
        "\n",
        "Welcome to a quick exercise for you to practice your pandas skills! We will be using the [SF Salaries Dataset](https://www.kaggle.com/kaggle/sf-salaries) from Kaggle! Just follow along and complete the tasks outlined in bold below. The tasks will get harder and harder as you go along."
      ]
    },
    {
      "cell_type": "markdown",
      "metadata": {
        "id": "W0Q2EG8ZGMmF"
      },
      "source": [
        "**Import pandas as pd.**"
      ]
    },
    {
      "cell_type": "code",
      "execution_count": null,
      "metadata": {
        "collapsed": true,
        "id": "ZOPCoOxuGMmG"
      },
      "outputs": [],
      "source": [
        "import pandas as pd"
      ]
    },
    {
      "cell_type": "markdown",
      "metadata": {
        "id": "YgkDnA5zGMmI"
      },
      "source": [
        "**Read Salaries.csv as a dataframe called sal.**"
      ]
    },
    {
      "cell_type": "code",
      "execution_count": null,
      "metadata": {
        "colab": {
          "base_uri": "https://localhost:8080/"
        },
        "id": "V7_5E7OTGMmJ",
        "outputId": "b957d6fd-cd6c-48df-eeb2-03f32f5b011c"
      },
      "outputs": [
        {
          "output_type": "stream",
          "name": "stdout",
          "text": [
            "Drive already mounted at /content/drive; to attempt to forcibly remount, call drive.mount(\"/content/drive\", force_remount=True).\n"
          ]
        },
        {
          "output_type": "stream",
          "name": "stderr",
          "text": [
            "<ipython-input-8-f8498ddc92ac>:4: DtypeWarning: Columns (3,4,5,6,12) have mixed types. Specify dtype option on import or set low_memory=False.\n",
            "  sal = pd.read_csv(file_path)\n"
          ]
        }
      ],
      "source": [
        "from google.colab import drive\n",
        "drive.mount('/content/drive')                        #all these are just to read-in Salaries.csv since\n",
        "file_path = '/content/drive/My Drive/Salaries.csv'   # on providing file-path of Salaries.csv from my pc library there was some issue\n",
        "sal = pd.read_csv(file_path)\n",
        "\n"
      ]
    },
    {
      "cell_type": "markdown",
      "metadata": {
        "id": "NGS0FWmwGMmJ"
      },
      "source": [
        "**Check the head of the DataFrame.**"
      ]
    },
    {
      "cell_type": "code",
      "execution_count": null,
      "metadata": {
        "colab": {
          "base_uri": "https://localhost:8080/"
        },
        "id": "EjzHw356GMmK",
        "outputId": "42cd02d1-d41e-4012-f531-3de7a4e56f17"
      },
      "outputs": [
        {
          "output_type": "stream",
          "name": "stdout",
          "text": [
            "   Id       EmployeeName                                        JobTitle  \\\n",
            "0   1     NATHANIEL FORD  GENERAL MANAGER-METROPOLITAN TRANSIT AUTHORITY   \n",
            "1   2       GARY JIMENEZ                 CAPTAIN III (POLICE DEPARTMENT)   \n",
            "2   3     ALBERT PARDINI                 CAPTAIN III (POLICE DEPARTMENT)   \n",
            "3   4  CHRISTOPHER CHONG            WIRE ROPE CABLE MAINTENANCE MECHANIC   \n",
            "4   5    PATRICK GARDNER    DEPUTY CHIEF OF DEPARTMENT,(FIRE DEPARTMENT)   \n",
            "\n",
            "     BasePay OvertimePay   OtherPay Benefits   TotalPay  TotalPayBenefits  \\\n",
            "0  167411.18         0.0  400184.25      NaN  567595.43         567595.43   \n",
            "1  155966.02   245131.88  137811.38      NaN  538909.28         538909.28   \n",
            "2  212739.13   106088.18    16452.6      NaN  335279.91         335279.91   \n",
            "3    77916.0    56120.71   198306.9      NaN  332343.61         332343.61   \n",
            "4   134401.6      9737.0  182234.59      NaN  326373.19         326373.19   \n",
            "\n",
            "   Year  Notes         Agency Status  \n",
            "0  2011    NaN  San Francisco    NaN  \n",
            "1  2011    NaN  San Francisco    NaN  \n",
            "2  2011    NaN  San Francisco    NaN  \n",
            "3  2011    NaN  San Francisco    NaN  \n",
            "4  2011    NaN  San Francisco    NaN  \n"
          ]
        }
      ],
      "source": [
        "print(sal.head())"
      ]
    },
    {
      "cell_type": "markdown",
      "metadata": {
        "id": "N4oRg7R7GMmP"
      },
      "source": [
        "**Use the .info() method to find out how many entries there are.**"
      ]
    },
    {
      "cell_type": "code",
      "execution_count": null,
      "metadata": {
        "colab": {
          "base_uri": "https://localhost:8080/"
        },
        "id": "akl2Gq5KGMmQ",
        "outputId": "7fd0e8ca-2a64-4de6-9b91-b622c0c5b4b0"
      },
      "outputs": [
        {
          "output_type": "stream",
          "name": "stdout",
          "text": [
            "<class 'pandas.core.frame.DataFrame'>\n",
            "RangeIndex: 148654 entries, 0 to 148653\n",
            "Data columns (total 13 columns):\n",
            " #   Column            Non-Null Count   Dtype  \n",
            "---  ------            --------------   -----  \n",
            " 0   Id                148654 non-null  int64  \n",
            " 1   EmployeeName      148654 non-null  object \n",
            " 2   JobTitle          148654 non-null  object \n",
            " 3   BasePay           148049 non-null  object \n",
            " 4   OvertimePay       148654 non-null  object \n",
            " 5   OtherPay          148654 non-null  object \n",
            " 6   Benefits          112495 non-null  object \n",
            " 7   TotalPay          148654 non-null  float64\n",
            " 8   TotalPayBenefits  148654 non-null  float64\n",
            " 9   Year              148654 non-null  int64  \n",
            " 10  Notes             0 non-null       float64\n",
            " 11  Agency            148654 non-null  object \n",
            " 12  Status            38119 non-null   object \n",
            "dtypes: float64(3), int64(2), object(8)\n",
            "memory usage: 14.7+ MB\n",
            "None\n"
          ]
        }
      ],
      "source": [
        "print(sal.info())"
      ]
    },
    {
      "cell_type": "markdown",
      "metadata": {
        "id": "1lJccCNiGMmQ"
      },
      "source": [
        "**What is the average BasePay ?**"
      ]
    },
    {
      "cell_type": "code",
      "execution_count": null,
      "metadata": {
        "colab": {
          "base_uri": "https://localhost:8080/"
        },
        "id": "57qhbPoWGMmR",
        "outputId": "48175d78-8e84-4993-af26-2a02ba24a38a"
      },
      "outputs": [
        {
          "output_type": "stream",
          "name": "stdout",
          "text": [
            "66325.4488404877\n"
          ]
        }
      ],
      "source": [
        "print(sal['BasePay'].mean())"
      ]
    },
    {
      "cell_type": "markdown",
      "metadata": {
        "id": "_Lx9R2kxGMmS"
      },
      "source": [
        "**What is the highest amount of OvertimePay in the dataset ?**"
      ]
    },
    {
      "cell_type": "code",
      "execution_count": null,
      "metadata": {
        "colab": {
          "base_uri": "https://localhost:8080/"
        },
        "id": "mq5F5oIaGMmS",
        "outputId": "a55b70fd-fc45-473c-f4b9-4e67ae2b2f1e"
      },
      "outputs": [
        {
          "output_type": "stream",
          "name": "stdout",
          "text": [
            "245131.88\n"
          ]
        }
      ],
      "source": [
        "print(sal['OvertimePay'].max())"
      ]
    },
    {
      "cell_type": "markdown",
      "metadata": {
        "id": "kT3BJCDFGMmW"
      },
      "source": [
        "**What is the job title of  JOSEPH DRISCOLL ? Note: Use all caps, otherwise you may get an answer that doesn't match up (there is also a lowercase Joseph Driscoll).**"
      ]
    },
    {
      "cell_type": "code",
      "execution_count": null,
      "metadata": {
        "colab": {
          "base_uri": "https://localhost:8080/"
        },
        "id": "l6puXCBOGMmX",
        "outputId": "b3cc91ff-ee0c-45d0-dd90-e4de2b60e444"
      },
      "outputs": [
        {
          "output_type": "stream",
          "name": "stdout",
          "text": [
            "CAPTAIN, FIRE SUPPRESSION\n"
          ]
        }
      ],
      "source": [
        "name=pd.Series(sal[\"EmployeeName\"])\n",
        "for i in range(0,len(name)):\n",
        "  if name[i]==\"JOSEPH DRISCOLL\":\n",
        "    print(sal.loc[i,\"JobTitle\"])"
      ]
    },
    {
      "cell_type": "markdown",
      "metadata": {
        "id": "FlrwbjkUGMmY"
      },
      "source": [
        "**How much does JOSEPH DRISCOLL make (including benefits)?**"
      ]
    },
    {
      "cell_type": "code",
      "execution_count": null,
      "metadata": {
        "colab": {
          "base_uri": "https://localhost:8080/"
        },
        "id": "ntgXntLhGMmZ",
        "outputId": "db8ef773-046c-42e3-d8ec-f0b403baafd3"
      },
      "outputs": [
        {
          "output_type": "stream",
          "name": "stdout",
          "text": [
            "270324.91\n"
          ]
        }
      ],
      "source": [
        "for i in range(0,len(name)):\n",
        "  if name[i]==\"JOSEPH DRISCOLL\":\n",
        "    print(sal.loc[i,\"TotalPayBenefits\"])"
      ]
    },
    {
      "cell_type": "markdown",
      "metadata": {
        "id": "8HgFLt22GMmZ"
      },
      "source": [
        "**What is the name of highest paid person (including benefits)?**"
      ]
    },
    {
      "cell_type": "code",
      "execution_count": null,
      "metadata": {
        "colab": {
          "base_uri": "https://localhost:8080/"
        },
        "id": "RlrhcNKqGMma",
        "outputId": "597348ed-459f-4962-adcf-d3ca24c9723c"
      },
      "outputs": [
        {
          "output_type": "stream",
          "name": "stdout",
          "text": [
            "NATHANIEL FORD\n"
          ]
        }
      ],
      "source": [
        "benefits=pd.Series(sal[\"TotalPayBenefits\"])\n",
        "for i in range(0,len(benefits)):\n",
        "  if benefits[i]==benefits.max():\n",
        "    print(sal.loc[i,\"EmployeeName\"])"
      ]
    },
    {
      "cell_type": "markdown",
      "metadata": {
        "id": "nSWO3zJCGMma"
      },
      "source": [
        "**What is the name of lowest paid person (including benefits)? Do you notice something strange about how much he or she is paid?**"
      ]
    },
    {
      "cell_type": "code",
      "execution_count": null,
      "metadata": {
        "colab": {
          "base_uri": "https://localhost:8080/"
        },
        "id": "93iJmSGpGMmb",
        "outputId": "da1585cc-8269-403c-8a9b-0d8618c07854"
      },
      "outputs": [
        {
          "output_type": "stream",
          "name": "stdout",
          "text": [
            "Joe Lopez\n"
          ]
        }
      ],
      "source": [
        "for i in range(0,len(benefits)):\n",
        "  if benefits[i]==benefits.min():\n",
        "    print(sal.loc[i,\"EmployeeName\"])\n",
        "#he has a debt of 618.13"
      ]
    },
    {
      "cell_type": "markdown",
      "metadata": {
        "id": "2W2SIoe2GMmc"
      },
      "source": [
        "**What was the average (mean) BasePay of all employees per year? (2011-2014) ?**"
      ]
    },
    {
      "cell_type": "code",
      "execution_count": null,
      "metadata": {
        "colab": {
          "base_uri": "https://localhost:8080/"
        },
        "id": "9kpx843LGMmc",
        "outputId": "9cec490e-52b8-4e59-9e7f-67f0184b661f"
      },
      "outputs": [
        {
          "output_type": "stream",
          "name": "stdout",
          "text": [
            "Year\n",
            "2011 63594.197779038994\n",
            "2012 65434.62709821301\n",
            "2013 nan\n",
            "2014 nan\n"
          ]
        }
      ],
      "source": [
        "BP=pd.Series(sal[\"BasePay\"])\n",
        "dict={2011:[0],2012:[0],2013:[0],2014:[0]}\n",
        "sliced_list=[]\n",
        "for i in range(2011,2015):\n",
        " for j in range(0,len(BP)):\n",
        "   if sal.loc[j,\"Year\"]==i:\n",
        "     dict[i].append(BP[j])\n",
        "print(\"Year\")\n",
        "for i in range(2011,2015):\n",
        "  print(i,sum(dict[i])/len(dict[i]))"
      ]
    },
    {
      "cell_type": "markdown",
      "metadata": {
        "id": "jQipJka-GMmd"
      },
      "source": [
        "**How many unique job titles are there?**"
      ]
    },
    {
      "cell_type": "code",
      "execution_count": null,
      "metadata": {
        "colab": {
          "base_uri": "https://localhost:8080/"
        },
        "id": "hLGlyvFAGMmd",
        "outputId": "7853faf1-8c19-4c97-d9c1-cec360d3662b"
      },
      "outputs": [
        {
          "output_type": "stream",
          "name": "stdout",
          "text": [
            "2159\n"
          ]
        }
      ],
      "source": [
        "lst=list(set(sal[\"JobTitle\"]))\n",
        "JT=pd.Series(lst)\n",
        "print(len(JT))"
      ]
    },
    {
      "cell_type": "markdown",
      "metadata": {
        "id": "_7QJ6-h5GMme"
      },
      "source": [
        "**What are the top 5 most common jobs?**"
      ]
    },
    {
      "cell_type": "code",
      "execution_count": null,
      "metadata": {
        "colab": {
          "base_uri": "https://localhost:8080/"
        },
        "id": "ouAj_6HjGMme",
        "outputId": "d9625fb8-c702-4f12-c5e3-3d7b2fdab746"
      },
      "outputs": [
        {
          "output_type": "stream",
          "name": "stdout",
          "text": [
            "JobTitle\n",
            "Transit Operator                7036\n",
            "Special Nurse                   4389\n",
            "Registered Nurse                3736\n",
            "Public Svc Aide-Public Works    2518\n",
            "Police Officer 3                2421\n",
            "Name: count, dtype: int64\n"
          ]
        }
      ],
      "source": [
        "Jt=pd.Series(sal[\"JobTitle\"],name=\"JobTitle\")\n",
        "freq=Jt.value_counts()\n",
        "print(freq.head())"
      ]
    },
    {
      "cell_type": "markdown",
      "metadata": {
        "id": "fDnFOjEpGMmf"
      },
      "source": [
        "**How many Job Titles were represented by only one person in 2013? (e.g. Job Titles with only one occurence in 2013?)**"
      ]
    },
    {
      "cell_type": "code",
      "execution_count": null,
      "metadata": {
        "colab": {
          "base_uri": "https://localhost:8080/"
        },
        "id": "KIuLioqlGMmg",
        "outputId": "428c7169-6450-4e54-b291-5c74e4b7b22a"
      },
      "outputs": [
        {
          "output_type": "stream",
          "name": "stdout",
          "text": [
            "6\n"
          ]
        }
      ],
      "source": [
        "sum=0\n",
        "for i in range(0,len(name)):\n",
        "  if sal.loc[i,\"Year\"]==2013 and freq[sal.loc[i,\"JobTitle\"]]==1 :   #dunno the error\n",
        "    sum+=1\n",
        "print(sum)"
      ]
    },
    {
      "cell_type": "markdown",
      "metadata": {
        "id": "3HLIA6GbGMmg"
      },
      "source": [
        "**How many people have the word Chief in their job title? (This is pretty tricky)**"
      ]
    },
    {
      "cell_type": "code",
      "execution_count": null,
      "metadata": {
        "collapsed": true,
        "id": "V_QtkmeqGMmh"
      },
      "outputs": [],
      "source": [
        "sum=0                                          #didnt get the error :/\n",
        "for job in Jt:\n",
        "  for i in range(0,len(job)-4):\n",
        "     if job[i]==('C' ) and job[i+1]==('h') and job[i+2]==('i') and job[i+3]==('e') and job[i+4]==('f'):\n",
        "       sum+=1"
      ]
    },
    {
      "cell_type": "code",
      "execution_count": null,
      "metadata": {
        "colab": {
          "base_uri": "https://localhost:8080/"
        },
        "id": "cDwjKjhMGMmh",
        "outputId": "5c62bd92-1dce-4d10-db6a-86a3a458d579"
      },
      "outputs": [
        {
          "output_type": "stream",
          "name": "stdout",
          "text": [
            "423\n"
          ]
        }
      ],
      "source": [
        "print(sum)"
      ]
    },
    {
      "cell_type": "markdown",
      "metadata": {
        "id": "8r1nMDXpGMmi"
      },
      "source": [
        "**Is there a correlation between length of the Job Title string and Salary?**"
      ]
    },
    {
      "cell_type": "code",
      "execution_count": null,
      "metadata": {
        "id": "r_la6Ep6GMmi"
      },
      "outputs": [],
      "source": [
        "#no idea what to do :/"
      ]
    },
    {
      "cell_type": "code",
      "execution_count": null,
      "metadata": {
        "id": "ncdj7H7JGMmj",
        "outputId": "35a868a1-7fc1-4942-fab1-3c1d635f3634"
      },
      "outputs": [
        {
          "data": {
            "text/html": [
              "<div>\n",
              "<table border=\"1\" class=\"dataframe\">\n",
              "  <thead>\n",
              "    <tr style=\"text-align: right;\">\n",
              "      <th></th>\n",
              "      <th>title_len</th>\n",
              "      <th>TotalPayBenefits</th>\n",
              "    </tr>\n",
              "  </thead>\n",
              "  <tbody>\n",
              "    <tr>\n",
              "      <th>title_len</th>\n",
              "      <td>1.000000</td>\n",
              "      <td>-0.036878</td>\n",
              "    </tr>\n",
              "    <tr>\n",
              "      <th>TotalPayBenefits</th>\n",
              "      <td>-0.036878</td>\n",
              "      <td>1.000000</td>\n",
              "    </tr>\n",
              "  </tbody>\n",
              "</table>\n",
              "</div>"
            ],
            "text/plain": [
              "                  title_len  TotalPayBenefits\n",
              "title_len          1.000000         -0.036878\n",
              "TotalPayBenefits  -0.036878          1.000000"
            ]
          },
          "execution_count": 23,
          "metadata": {},
          "output_type": "execute_result"
        }
      ],
      "source": []
    },
    {
      "cell_type": "markdown",
      "metadata": {
        "id": "Fty1h1LSGMmj"
      },
      "source": [
        "# Great Job!"
      ]
    }
  ],
  "metadata": {
    "kernelspec": {
      "display_name": "Python 3",
      "language": "python",
      "name": "python3"
    },
    "language_info": {
      "codemirror_mode": {
        "name": "ipython",
        "version": 3
      },
      "file_extension": ".py",
      "mimetype": "text/x-python",
      "name": "python",
      "nbconvert_exporter": "python",
      "pygments_lexer": "ipython3",
      "version": "3.12.4"
    },
    "colab": {
      "provenance": []
    }
  },
  "nbformat": 4,
  "nbformat_minor": 0
}